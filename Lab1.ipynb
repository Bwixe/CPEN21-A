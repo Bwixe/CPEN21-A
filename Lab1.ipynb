{
  "nbformat": 4,
  "nbformat_minor": 0,
  "metadata": {
    "colab": {
      "name": "Lab1.ipynb",
      "provenance": [],
      "authorship_tag": "ABX9TyN3Mv0esoMC4QZX9vzdMO/N",
      "include_colab_link": true
    },
    "kernelspec": {
      "name": "python3",
      "display_name": "Python 3"
    },
    "language_info": {
      "name": "python"
    }
  },
  "cells": [
    {
      "cell_type": "markdown",
      "metadata": {
        "id": "view-in-github",
        "colab_type": "text"
      },
      "source": [
        "<a href=\"https://colab.research.google.com/github/Bwixe/CPEN21-A/blob/main/Lab1.ipynb\" target=\"_parent\"><img src=\"https://colab.research.google.com/assets/colab-badge.svg\" alt=\"Open In Colab\"/></a>"
      ]
    },
    {
      "cell_type": "markdown",
      "metadata": {
        "id": "m4hrqtymXeue"
      },
      "source": [
        "[ ] print  (\"Welcome to Python Programming\")"
      ]
    },
    {
      "cell_type": "code",
      "metadata": {
        "colab": {
          "base_uri": "https://localhost:8080/"
        },
        "id": "knApIjcXYaKH",
        "outputId": "99603539-cac3-444c-b315-f5c8c28aa18e"
      },
      "source": [
        "Name = \"Elise Brixe S. Cubol\"\n",
        "Address = \"578 Purok 7 Barangay De Ocampo, Trece Martires City, Cavite\"\n",
        "Age = \"18 years old\"\n",
        "\n",
        "print (Name)\n",
        "print (Address)\n",
        "print (Age)"
      ],
      "execution_count": 1,
      "outputs": [
        {
          "output_type": "stream",
          "name": "stdout",
          "text": [
            "Elise Brixe S. Cubol\n",
            "578 Purok 7 Barangay De Ocampo, Trece Martires City, Cavite\n",
            "18 years old\n"
          ]
        }
      ]
    }
  ]
}