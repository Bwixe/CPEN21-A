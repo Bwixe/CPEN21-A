{
  "nbformat": 4,
  "nbformat_minor": 0,
  "metadata": {
    "colab": {
      "name": "Control Structure.ipynb",
      "provenance": [],
      "authorship_tag": "ABX9TyNPGqFIfPyIIV1p3/gH6//y",
      "include_colab_link": true
    },
    "kernelspec": {
      "name": "python3",
      "display_name": "Python 3"
    },
    "language_info": {
      "name": "python"
    }
  },
  "cells": [
    {
      "cell_type": "markdown",
      "metadata": {
        "id": "view-in-github",
        "colab_type": "text"
      },
      "source": [
        "<a href=\"https://colab.research.google.com/github/Bwixe/CPEN21-A/blob/main/Control_Structure.ipynb\" target=\"_parent\"><img src=\"https://colab.research.google.com/assets/colab-badge.svg\" alt=\"Open In Colab\"/></a>"
      ]
    },
    {
      "cell_type": "markdown",
      "metadata": {
        "id": "Vg4-UGIelcVH"
      },
      "source": [
        "If statement "
      ]
    },
    {
      "cell_type": "code",
      "metadata": {
        "colab": {
          "base_uri": "https://localhost:8080/"
        },
        "id": "ljGXTjwClA8a",
        "outputId": "19c6de5a-f254-43cb-f3b0-2ddd990e1268"
      },
      "source": [
        "a = 12\n",
        "b = 100\n",
        "\n",
        "if b>a:\n",
        " print(\"b is greater than a\")\n",
        " "
      ],
      "execution_count": 60,
      "outputs": [
        {
          "output_type": "stream",
          "name": "stdout",
          "text": [
            "b is greater than a\n"
          ]
        }
      ]
    },
    {
      "cell_type": "markdown",
      "metadata": {
        "id": "vsvI2w-KpCGa"
      },
      "source": [
        "Elif Condition"
      ]
    },
    {
      "cell_type": "code",
      "metadata": {
        "colab": {
          "base_uri": "https://localhost:8080/"
        },
        "id": "PECwDjJRpEhP",
        "outputId": "3e199639-c9e3-44c7-ab79-6342c3297049"
      },
      "source": [
        "a = 12\n",
        "b = 12\n",
        "\n",
        "if b>a:\n",
        " print(\"b is greater than a\")\n",
        "elif a==b:\n",
        "  print(\"a and b are equal\")"
      ],
      "execution_count": 61,
      "outputs": [
        {
          "output_type": "stream",
          "name": "stdout",
          "text": [
            "a and b are equal\n"
          ]
        }
      ]
    },
    {
      "cell_type": "markdown",
      "metadata": {
        "id": "AWcSNnTrpjf1"
      },
      "source": [
        "Else Statement"
      ]
    },
    {
      "cell_type": "code",
      "metadata": {
        "colab": {
          "base_uri": "https://localhost:8080/"
        },
        "id": "_uUkyd6OpnYO",
        "outputId": "c8f14c44-e566-4e59-82f2-764865bb644a"
      },
      "source": [
        "a = 120\n",
        "b = 12\n",
        "\n",
        "if b>a:\n",
        " print(\"b is greater than a\")\n",
        "elif a==b:\n",
        "  print(\"a is equal to b\")\n",
        "else:\n",
        "  print(\"b is less than a\")"
      ],
      "execution_count": 62,
      "outputs": [
        {
          "output_type": "stream",
          "name": "stdout",
          "text": [
            "b is less than a\n"
          ]
        }
      ]
    },
    {
      "cell_type": "markdown",
      "metadata": {
        "id": "kSd7ALLsqd_3"
      },
      "source": [
        "##Short Hand if Statement"
      ]
    },
    {
      "cell_type": "code",
      "metadata": {
        "id": "3Dq9Ktn7qkZF"
      },
      "source": [
        "if b>a: print(\"a is greater than b\")"
      ],
      "execution_count": 63,
      "outputs": []
    },
    {
      "cell_type": "markdown",
      "metadata": {
        "id": "SYgb_N8prG5i"
      },
      "source": [
        "##Short Hand if else Statement"
      ]
    },
    {
      "cell_type": "code",
      "metadata": {
        "colab": {
          "base_uri": "https://localhost:8080/"
        },
        "id": "tFZtcmlwrL36",
        "outputId": "49233fad-29af-42a8-f5b3-c8fe47c83c1f"
      },
      "source": [
        "print(\"a is greater than b\") if a>b else print(\"b is greater than a\")"
      ],
      "execution_count": 64,
      "outputs": [
        {
          "output_type": "stream",
          "name": "stdout",
          "text": [
            "a is greater than b\n"
          ]
        }
      ]
    },
    {
      "cell_type": "markdown",
      "metadata": {
        "id": "MOrQ8mi7tb1C"
      },
      "source": [
        "And condition"
      ]
    },
    {
      "cell_type": "code",
      "metadata": {
        "colab": {
          "base_uri": "https://localhost:8080/"
        },
        "id": "eA02Onv-uYtF",
        "outputId": "eec2f4d6-84de-420d-e560-8a54acd3bdd2"
      },
      "source": [
        "a = 15\n",
        "b = 35\n",
        "\n",
        "if b>a and a<b:\n",
        " print(\"Both conditions are True\")\n",
        "elif b<a and a>b:\n",
        "  print(\"a is larger than b\")\n",
        "else:\n",
        "  print(\"none of the above\")"
      ],
      "execution_count": 65,
      "outputs": [
        {
          "output_type": "stream",
          "name": "stdout",
          "text": [
            "Both conditions are True\n"
          ]
        }
      ]
    },
    {
      "cell_type": "markdown",
      "metadata": {
        "id": "tpijofstvROV"
      },
      "source": [
        "Or Condition"
      ]
    },
    {
      "cell_type": "code",
      "metadata": {
        "colab": {
          "base_uri": "https://localhost:8080/"
        },
        "id": "sex5LtgyvTmm",
        "outputId": "c93bdf64-c7f7-4def-a8db-e9a2d4e20033"
      },
      "source": [
        "a = 35\n",
        "b = 20\n",
        "\n",
        "if b>a or a==b:\n",
        " print(\"True\")\n",
        "else:\n",
        "  print(\"False\")"
      ],
      "execution_count": 66,
      "outputs": [
        {
          "output_type": "stream",
          "name": "stdout",
          "text": [
            "False\n"
          ]
        }
      ]
    },
    {
      "cell_type": "markdown",
      "metadata": {
        "id": "gPwUN-oaw5qA"
      },
      "source": [
        "##Nested if"
      ]
    },
    {
      "cell_type": "code",
      "metadata": {
        "colab": {
          "base_uri": "https://localhost:8080/"
        },
        "id": "9WjNjN4Nw8oI",
        "outputId": "e321c3af-e7a9-4cd4-fb85-785fe77425f8"
      },
      "source": [
        "x = 41\n",
        "if x>10:\n",
        "  print(\"Above 10\")\n",
        "  if x>20:\n",
        "    print(\"Above 20\")\n",
        "  if x>30:\n",
        "    print(\"Above 30\")\n",
        "  else:\n",
        "    print(\"Not above 30\")\n",
        "else: \n",
        "    print(\"Not above 20\")"
      ],
      "execution_count": 67,
      "outputs": [
        {
          "output_type": "stream",
          "name": "stdout",
          "text": [
            "Above 10\n",
            "Above 20\n",
            "Above 30\n"
          ]
        }
      ]
    },
    {
      "cell_type": "markdown",
      "metadata": {
        "id": "Fo27XBJuyigK"
      },
      "source": [
        "Application of If.. Else Statement"
      ]
    },
    {
      "cell_type": "code",
      "metadata": {
        "colab": {
          "base_uri": "https://localhost:8080/"
        },
        "id": "GXr40I0_ypFB",
        "outputId": "6343aa14-43e4-4ced-a43a-72fe2b850bcc"
      },
      "source": [
        "#Example 1\n",
        "\n",
        "age = int(input(\"Enter your age\"))\n",
        "\n",
        "if age>=18:\n",
        "  print(\"You are qualified to vote!\")\n",
        "else:\n",
        "  print(\"You are not qualified to vote!\")"
      ],
      "execution_count": 68,
      "outputs": [
        {
          "output_type": "stream",
          "name": "stdout",
          "text": [
            "Enter your age12\n",
            "You are not qualified to vote!\n"
          ]
        }
      ]
    },
    {
      "cell_type": "code",
      "metadata": {
        "colab": {
          "base_uri": "https://localhost:8080/"
        },
        "id": "cnswkZzfznFs",
        "outputId": "f9bf259f-645a-4c71-9e41-d4b381a8c1bd"
      },
      "source": [
        "#Example 2 to check whether 0, negative or positive number\n",
        "number = int(input(\"Enter the number\"))\n",
        "\n",
        "if number ==0:\n",
        "  print(\"Zero\")\n",
        "elif number>0:\n",
        "  print(\"Positive\")\n",
        "else:\n",
        "  print(\"Negative\")"
      ],
      "execution_count": 69,
      "outputs": [
        {
          "output_type": "stream",
          "name": "stdout",
          "text": [
            "Enter the number1\n",
            "Positive\n"
          ]
        }
      ]
    },
    {
      "cell_type": "code",
      "metadata": {
        "colab": {
          "base_uri": "https://localhost:8080/"
        },
        "id": "J96cYZ3H0Vkq",
        "outputId": "12e05716-aa8a-42ef-e70f-5ca1dbc88e76"
      },
      "source": [
        "#Example 3\n",
        "grade = int(input(\"Enter the grade\"))\n",
        "\n",
        "if grade>75:\n",
        "  print(\"Passed\")\n",
        "elif grade==74:\n",
        "  print(\"Remedial\")\n",
        "else:\n",
        "  print(\"Failed\")\n"
      ],
      "execution_count": 74,
      "outputs": [
        {
          "output_type": "stream",
          "name": "stdout",
          "text": [
            "Enter the grade88\n",
            "Passed\n"
          ]
        }
      ]
    }
  ]
}