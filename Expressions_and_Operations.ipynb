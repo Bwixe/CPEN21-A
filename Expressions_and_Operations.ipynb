{
  "nbformat": 4,
  "nbformat_minor": 0,
  "metadata": {
    "colab": {
      "name": "Expressions and Operations.ipynb",
      "provenance": [],
      "authorship_tag": "ABX9TyPNeu11cvnYk6k8UlmOOyq5",
      "include_colab_link": true
    },
    "kernelspec": {
      "name": "python3",
      "display_name": "Python 3"
    },
    "language_info": {
      "name": "python"
    }
  },
  "cells": [
    {
      "cell_type": "markdown",
      "metadata": {
        "id": "view-in-github",
        "colab_type": "text"
      },
      "source": [
        "<a href=\"https://colab.research.google.com/github/Bwixe/CPEN21-A/blob/main/Expressions_and_Operations.ipynb\" target=\"_parent\"><img src=\"https://colab.research.google.com/assets/colab-badge.svg\" alt=\"Open In Colab\"/></a>"
      ]
    },
    {
      "cell_type": "code",
      "metadata": {
        "colab": {
          "base_uri": "https://localhost:8080/"
        },
        "id": "9vmTCdZCg0N6",
        "outputId": "8583eb97-8b98-45bc-8d68-c98fa86fa45c"
      },
      "source": [
        "print(10>9)\n",
        "print(10<9)\n",
        "print(10==9)\n",
        "print(10!=9)\n"
      ],
      "execution_count": 41,
      "outputs": [
        {
          "output_type": "stream",
          "name": "stdout",
          "text": [
            "True\n",
            "False\n",
            "False\n",
            "True\n"
          ]
        }
      ]
    },
    {
      "cell_type": "code",
      "metadata": {
        "colab": {
          "base_uri": "https://localhost:8080/"
        },
        "id": "oi1SrnhahvHc",
        "outputId": "b0832b4e-f215-4978-c2b0-8b6b5d149051"
      },
      "source": [
        "print(bool(True))\n",
        "print(bool(False))\n",
        "print(bool(1))\n",
        "print(bool(0))\n",
        "print(bool([]))\n",
        "print(bool(None))"
      ],
      "execution_count": 42,
      "outputs": [
        {
          "output_type": "stream",
          "name": "stdout",
          "text": [
            "True\n",
            "False\n",
            "True\n",
            "False\n",
            "False\n",
            "False\n"
          ]
        }
      ]
    },
    {
      "cell_type": "code",
      "metadata": {
        "id": "uxdXCShTiqWF"
      },
      "source": [
        "#Boolean answer of a function\n",
        "def myFunction(): return False\n",
        "\n",
        "if myFunction():\n",
        "  print(\"Yes!\")\n",
        "else:\n",
        "  print(\"No!\")"
      ],
      "execution_count": null,
      "outputs": []
    },
    {
      "cell_type": "code",
      "metadata": {
        "id": "wfXXqpgKjxy4"
      },
      "source": [
        "a=6\n",
        "b=7\n",
        "print(a==b)\n",
        "print(a!=a)"
      ],
      "execution_count": null,
      "outputs": []
    },
    {
      "cell_type": "code",
      "metadata": {
        "id": "Lb1RWzvFkJ-N"
      },
      "source": [
        "print(10+5)\n",
        "print(10-5)\n",
        "print(10*5)\n",
        "print(10/5)\n",
        "print(10//5) #floor division\n",
        "print(10/3) #quoient\n",
        "print(10//3) #floor division\n",
        "print(10%3) #modulo\n",
        "print(10**2) #concatenation"
      ],
      "execution_count": null,
      "outputs": []
    },
    {
      "cell_type": "code",
      "metadata": {
        "id": "IF6Bd2TwlgpX"
      },
      "source": [
        "a=60 #0011 1100 , 0111 1000, 1111 0000\n",
        "b=13\n",
        "print(a&b)\n",
        "print(a|b)\n",
        "print(a<<1)\n",
        "print(a<<2)\n",
        "print(a>>1) #0011 1100, 0001 1110"
      ],
      "execution_count": null,
      "outputs": []
    },
    {
      "cell_type": "code",
      "metadata": {
        "id": "TakS5vEdoYMB"
      },
      "source": [
        "a+=2 #same as a=a+2, a=60+2, a=62\n",
        "print(a)"
      ],
      "execution_count": null,
      "outputs": []
    },
    {
      "cell_type": "markdown",
      "metadata": {
        "id": "dpxMJFVOqfbR"
      },
      "source": [
        "#Logical Operators"
      ]
    },
    {
      "cell_type": "code",
      "metadata": {
        "colab": {
          "base_uri": "https://localhost:8080/"
        },
        "id": "TRcwQtvOqj-6",
        "outputId": "14801942-3c89-443d-ea79-97195867e67e"
      },
      "source": [
        "a=60\n",
        "b=13\n",
        "\n",
        "(a>b) and (a<b)\n",
        "(a>b) or (a<b)\n",
        "not(a>b)"
      ],
      "execution_count": 39,
      "outputs": [
        {
          "output_type": "execute_result",
          "data": {
            "text/plain": [
              "False"
            ]
          },
          "metadata": {},
          "execution_count": 39
        }
      ]
    },
    {
      "cell_type": "code",
      "metadata": {
        "colab": {
          "base_uri": "https://localhost:8080/"
        },
        "id": "5dhut3zQs0hm",
        "outputId": "b8c8cb1e-7ddb-4e3b-a781-f135009f526b"
      },
      "source": [
        "print(a is b)\n",
        "print(a is not b)"
      ],
      "execution_count": 40,
      "outputs": [
        {
          "output_type": "stream",
          "name": "stdout",
          "text": [
            "False\n",
            "True\n"
          ]
        }
      ]
    }
  ]
}