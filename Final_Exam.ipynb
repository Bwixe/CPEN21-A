{
  "nbformat": 4,
  "nbformat_minor": 0,
  "metadata": {
    "colab": {
      "name": "Final Exam.ipynb",
      "provenance": [],
      "authorship_tag": "ABX9TyPIi16CFqgxhsKOJolnLak+",
      "include_colab_link": true
    },
    "kernelspec": {
      "name": "python3",
      "display_name": "Python 3"
    },
    "language_info": {
      "name": "python"
    }
  },
  "cells": [
    {
      "cell_type": "markdown",
      "metadata": {
        "id": "view-in-github",
        "colab_type": "text"
      },
      "source": [
        "<a href=\"https://colab.research.google.com/github/Bwixe/CPEN21-A/blob/main/Final_Exam.ipynb\" target=\"_parent\"><img src=\"https://colab.research.google.com/assets/colab-badge.svg\" alt=\"Open In Colab\"/></a>"
      ]
    },
    {
      "cell_type": "markdown",
      "source": [
        "#Problem Statement 1\n"
      ],
      "metadata": {
        "id": "6lHDg8Cm14hC"
      }
    },
    {
      "cell_type": "code",
      "execution_count": 14,
      "metadata": {
        "colab": {
          "base_uri": "https://localhost:8080/"
        },
        "id": "nU_cShxS1I4F",
        "outputId": "2619c937-b61a-4c76-bc23-ada556ffaec0"
      },
      "outputs": [
        {
          "output_type": "stream",
          "name": "stdout",
          "text": [
            "The sum of 10 numbers less than 5 is -5\n"
          ]
        }
      ],
      "source": [
        "sum = -5\n",
        "number =  (-10,-9,-8,-7,-6,-5,-4,-3,-2,-1,0,1,2,3,4,5,6,7,8,9,10)\n",
        "for y in number:\n",
        "  sum = sum + y\n",
        "print(\"The sum of 10 numbers less than 5 is\", sum)"
      ]
    },
    {
      "cell_type": "markdown",
      "source": [
        "#Problem Statement 2"
      ],
      "metadata": {
        "id": "xVKPMjyo55dX"
      }
    },
    {
      "cell_type": "code",
      "source": [
        "quantity = int(input(\"1st number: \"))\n",
        "while (quantity!=0):\n",
        "  h = int(input(\"2nd number: \"))\n",
        "  i = int(input(\"3rd number: \"))\n",
        "  j = int(input(\"4th number: \"))\n",
        "  k = int(input(\"5th number: \"))\n",
        "  l = 0\n",
        "  m = quantity + k\n",
        "  print(6)\n",
        "  quantity = 1\n"
      ],
      "metadata": {
        "colab": {
          "base_uri": "https://localhost:8080/"
        },
        "id": "Twv3Sf495-v3",
        "outputId": "59d37a09-04fe-487e-81e9-c890a540dc74"
      },
      "execution_count": 16,
      "outputs": [
        {
          "output_type": "stream",
          "name": "stdout",
          "text": [
            "1st number: 1\n",
            "2nd number: 2\n",
            "3rd number: 3\n",
            "4th number: 4\n",
            "5th number: 5\n",
            "6\n"
          ]
        }
      ]
    },
    {
      "cell_type": "markdown",
      "source": [
        "#Problem Number 3"
      ],
      "metadata": {
        "id": "ov7j-vFSIXIM"
      }
    },
    {
      "cell_type": "code",
      "source": [
        "grade = int(input(\"Enter your grade \"))\n",
        "if grade>90:\n",
        "  print(\"A\")\n",
        "else:\n",
        "  if grade<89 and grade>80:\n",
        "   print(\"B\")\n",
        "  else:\n",
        "   if grade<79 and grade>70:\n",
        "    print(\"C\")\n",
        "   else:\n",
        "    if grade<69 and grade>60:\n",
        "     print(\"D\")\n",
        "    if grade<68:\n",
        "     print(\"F\")\n"
      ],
      "metadata": {
        "colab": {
          "base_uri": "https://localhost:8080/"
        },
        "id": "l_AQz8v-IcZs",
        "outputId": "6b90fb9e-8643-40af-dec5-cd4390e881a4"
      },
      "execution_count": 34,
      "outputs": [
        {
          "output_type": "stream",
          "name": "stdout",
          "text": [
            "Enter your grade 85\n",
            "B\n"
          ]
        }
      ]
    }
  ]
}